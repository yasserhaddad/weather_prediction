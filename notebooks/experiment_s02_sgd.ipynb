{
 "cells": [
  {
   "cell_type": "markdown",
   "metadata": {},
   "source": [
    "# Load libraries and modules"
   ]
  },
  {
   "cell_type": "code",
   "execution_count": 1,
   "metadata": {},
   "outputs": [],
   "source": [
    "%load_ext autoreload\n",
    "%autoreload 2"
   ]
  },
  {
   "cell_type": "code",
   "execution_count": 2,
   "metadata": {},
   "outputs": [],
   "source": [
    "import sys\n",
    "import time\n",
    "sys.path.append('/'.join(sys.path[0].split('/')[:-1]))\n",
    "\n",
    "from modules.full_pipeline_evaluation_ensemble import generate_predictions_ensemble"
   ]
  },
  {
   "cell_type": "markdown",
   "metadata": {},
   "source": [
    "# SWAG Scale 0.1"
   ]
  },
  {
   "cell_type": "markdown",
   "metadata": {},
   "source": [
    "## LR : 0.008, SWA LR : 0.001"
   ]
  },
  {
   "cell_type": "markdown",
   "metadata": {},
   "source": [
    "--config_file config_s01_two_steps_small.json --nb_models 1 --swag=True --scale_swag 0.1 --max_models_swag 20 --multiple_swag_realizations --nb_realizations 10 --plot_realizations --last_epoch_only --load_if_exists --file_prefix s02_swag_freq10_sgd --from_terminal"
   ]
  },
  {
   "cell_type": "code",
   "execution_count": null,
   "metadata": {},
   "outputs": [
    {
     "name": "stdout",
     "output_type": "stream",
     "text": [
      "Reading confing file and setting up folders...\n",
      "Loading data to RAM...\n",
      "Time: 9.29s\n",
      "Loading data to RAM...\n",
      "Time: 2.76s\n",
      "########Epoch 11########\n",
      "\n",
      "Model 1\n",
      "\n",
      "Realization 1\n",
      "Current memory use : 3.2876514934930245\n",
      "\tLoading existing predictions\n",
      "\n",
      "Realization 2\n",
      "Current memory use : 3.2876514934930245\n",
      "\tLoading existing predictions\n",
      "\n",
      "Realization 3\n",
      "Current memory use : 3.2876514934930245\n",
      "\tLoading existing predictions\n",
      "\n",
      "Realization 4\n",
      "Current memory use : 3.2876514934930245\n",
      "\tLoading existing predictions\n",
      "\n",
      "Realization 5\n",
      "Current memory use : 3.2876514934930245\n",
      "\tLoading existing predictions\n",
      "\n",
      "Realization 6\n",
      "Current memory use : 3.2876514934930245\n",
      "\tLoading existing predictions\n",
      "\n",
      "Realization 7\n",
      "Current memory use : 3.2876514934930245\n",
      "\tLoading existing predictions\n",
      "\n",
      "Realization 8\n",
      "Current memory use : 3.2876514934930245\n",
      "\tLoading existing predictions\n",
      "\n",
      "Realization 9\n",
      "Current memory use : 3.2876532250179094\n",
      "\tLoading existing predictions\n",
      "\n",
      "Realization 10\n",
      "Current memory use : 3.2876532250179094\n",
      "\tLoading existing predictions\n",
      "Current memory use : 3.2876532250179094\n",
      "Computing median predictions\n"
     ]
    }
   ],
   "source": [
    "retry = True\n",
    "while retry:\n",
    "    try:\n",
    "        _, _, _, _, _, _, _, _ = \\\n",
    "                        generate_predictions_ensemble('config_s01_two_steps_small.json', nb_models=1, ensembling=False, \n",
    "                                                      swag=True, scale_swag=0.1, max_models_swag=20, \n",
    "                                                      multiple_swag_realizations=True, no_cov_mat=False, nb_realizations=10, \n",
    "                                                      aggregate_realizations=False, plot_realizations=True, \n",
    "                                                      last_epoch_only=True, load_if_exists=True, load_metrics=False, \n",
    "                                                      probabilistic=False, full_plots=False, hovmoller=False, \n",
    "                                                      file_prefix='s02_swag_freq10_sgd')\n",
    "        retry = False\n",
    "    except TypeError:\n",
    "        print(\"\\n\\nRestarting\\n\\n\")\n",
    "        continue"
   ]
  },
  {
   "cell_type": "markdown",
   "metadata": {},
   "source": [
    "# LR: 0.05, SWA LR: 0.005"
   ]
  },
  {
   "cell_type": "markdown",
   "metadata": {},
   "source": [
    "--config_file config_s01_two_steps_small.json --nb_models 1 --swag=True --scale_swag 0.1 --max_models_swag 20 --multiple_swag_realizations --nb_realizations 10 --plot_realizations --last_epoch_only --load_if_exists --file_prefix s02_swag_freq10_sgd_005_0005"
   ]
  },
  {
   "cell_type": "code",
   "execution_count": null,
   "metadata": {},
   "outputs": [],
   "source": [
    "retry = True\n",
    "while retry:\n",
    "    try:\n",
    "        _, _, _, _, _, _, _, _ = \\\n",
    "                        generate_predictions_ensemble('config_s01_two_steps_small.json', nb_models=1, ensembling=False, \n",
    "                                                      swag=True, scale_swag=0.1, max_models_swag=20, \n",
    "                                                      multiple_swag_realizations=True, no_cov_mat=False, nb_realizations=10, \n",
    "                                                      aggregate_realizations=False, plot_realizations=True, \n",
    "                                                      last_epoch_only=True, load_if_exists=True, load_metrics=False, \n",
    "                                                      probabilistic=False, full_plots=False, hovmoller=False, \n",
    "                                                      file_prefix='s02_swag_freq10_sgd_005_0005')\n",
    "        retry = False\n",
    "    except TypeError:\n",
    "        print(\"\\n\\nRestarting\\n\\n\")\n",
    "        continue"
   ]
  },
  {
   "cell_type": "markdown",
   "metadata": {},
   "source": [
    "# LR: 0.01, SWA LR: 0.001"
   ]
  },
  {
   "cell_type": "code",
   "execution_count": null,
   "metadata": {},
   "outputs": [],
   "source": [
    "retry = True\n",
    "while retry:\n",
    "    try:\n",
    "        _, _, _, _, _, _, _, _ = \\\n",
    "                        generate_predictions_ensemble('config_s01_two_steps_small.json', nb_models=1, ensembling=False, \n",
    "                                                      swag=True, scale_swag=0.1, max_models_swag=20, \n",
    "                                                      multiple_swag_realizations=True, no_cov_mat=False, nb_realizations=10, \n",
    "                                                      aggregate_realizations=False, plot_realizations=True, \n",
    "                                                      last_epoch_only=True, load_if_exists=True, load_metrics=False, \n",
    "                                                      probabilistic=False, full_plots=False, hovmoller=False, \n",
    "                                                      file_prefix='s02_swag_freq10_sgd_001_0001')\n",
    "        retry = False\n",
    "    except TypeError:\n",
    "        print(\"\\n\\nRestarting\\n\\n\")\n",
    "        continue"
   ]
  }
 ],
 "metadata": {
  "kernelspec": {
   "display_name": "Python [conda env:weather] *",
   "language": "python",
   "name": "conda-env-weather-py"
  },
  "language_info": {
   "codemirror_mode": {
    "name": "ipython",
    "version": 3
   },
   "file_extension": ".py",
   "mimetype": "text/x-python",
   "name": "python",
   "nbconvert_exporter": "python",
   "pygments_lexer": "ipython3",
   "version": "3.7.7"
  }
 },
 "nbformat": 4,
 "nbformat_minor": 4
}

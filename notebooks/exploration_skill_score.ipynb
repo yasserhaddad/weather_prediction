{
 "cells": [
  {
   "cell_type": "markdown",
   "metadata": {},
   "source": [
    "# Load libraries"
   ]
  },
  {
   "cell_type": "code",
   "execution_count": 1,
   "metadata": {},
   "outputs": [],
   "source": [
    "%load_ext autoreload\n",
    "%autoreload 2"
   ]
  },
  {
   "cell_type": "code",
   "execution_count": 2,
   "metadata": {},
   "outputs": [],
   "source": [
    "import random\n",
    "import time\n",
    "import json\n",
    "import numpy as np\n",
    "import pandas as pd\n",
    "import xarray as xr\n",
    "import xskillscore as xs\n",
    "\n",
    "import cartopy.crs as ccrs\n",
    "import matplotlib.pyplot as plt\n",
    "import matplotlib.dates as mdates\n",
    "\n",
    "from scipy.stats import norm\n",
    "from xskillscore import crps_quadrature, crps_ensemble\n",
    "\n",
    "import sys\n",
    "sys.path.append('/'.join(sys.path[0].split('/')[:-1]))\n",
    "from modules.architectures import *\n",
    "\n",
    "from modules.swag import data, models, utils, losses\n",
    "from modules.swag.posteriors import SWAG\n",
    "\n",
    "import modules.architectures as modelArchitectures\n",
    "from modules.full_pipeline import compute_errors, _inner\n",
    "from modules.plotting import plot_intervalmap, plot_signal\n",
    "from modules.data import hp_to_equiangular\n",
    "from modules.test import compute_rmse_healpix, compute_R2"
   ]
  },
  {
   "cell_type": "markdown",
   "metadata": {},
   "source": [
    "# Config"
   ]
  },
  {
   "cell_type": "code",
   "execution_count": 4,
   "metadata": {},
   "outputs": [],
   "source": [
    "config_file = 'config_s01_two_steps_small.json'\n",
    "ep = 11\n",
    "lead_time = 6\n",
    "\n",
    "# load config\n",
    "with open(\"../configs/\" + config_file) as json_data_file:\n",
    "    cfg = json.load(json_data_file)\n",
    "\n",
    "# define paths\n",
    "datadir = cfg['directories']['datadir']\n",
    "input_dir = datadir + cfg['directories']['input_dir']\n",
    "model_save_path = datadir + cfg['directories']['model_save_path']\n",
    "pred_save_path = datadir + cfg['directories']['pred_save_path']\n",
    "metrics_path = datadir + cfg['directories']['metrics_path']\n",
    "\n",
    "# model parameters\n",
    "max_lead_time = cfg['training_constants']['max_lead_time']\n",
    "len_sqce = cfg['model_parameters']['len_sqce']\n",
    "delta_t = cfg['model_parameters']['delta_t']\n",
    "architecture_name = cfg['model_parameters']['architecture_name']\n",
    "resolution = cfg['model_parameters']['resolution']"
   ]
  },
  {
   "cell_type": "markdown",
   "metadata": {},
   "source": [
    "# RMSE Skill Score"
   ]
  },
  {
   "cell_type": "markdown",
   "metadata": {},
   "source": [
    "## Compute reference RMSEs"
   ]
  },
  {
   "cell_type": "code",
   "execution_count": null,
   "metadata": {},
   "outputs": [],
   "source": []
  }
 ],
 "metadata": {
  "kernelspec": {
   "display_name": "Python [conda env:weather] *",
   "language": "python",
   "name": "conda-env-weather-py"
  },
  "language_info": {
   "codemirror_mode": {
    "name": "ipython",
    "version": 3
   },
   "file_extension": ".py",
   "mimetype": "text/x-python",
   "name": "python",
   "nbconvert_exporter": "python",
   "pygments_lexer": "ipython3",
   "version": "3.7.7"
  }
 },
 "nbformat": 4,
 "nbformat_minor": 4
}
